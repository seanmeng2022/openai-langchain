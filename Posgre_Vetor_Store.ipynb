{
 "cells": [
  {
   "cell_type": "code",
   "execution_count": 25,
   "id": "705fb285-a776-4f2c-ada5-c4023e754266",
   "metadata": {
    "tags": []
   },
   "outputs": [],
   "source": [
    "!pip install langchain --quiet\n",
    "!pip install openai --quiet\n",
    "!pip install opensearch-py --quiet\n",
    "!pip install tiktoken --quiet\n",
    "!pip install psycopg2-binary --quiet\n",
    "!pip install pgvector --quiet\n",
    "!pip install unstructured --quiet"
   ]
  },
  {
   "cell_type": "code",
   "execution_count": 3,
   "id": "1114ad24-7b73-40a4-9b36-2aa2e33b7d46",
   "metadata": {
    "tags": []
   },
   "outputs": [],
   "source": [
    "import os\n",
    "os.environ['OPENAI_API_KEY']=open(\"openai-key\").read()"
   ]
  },
  {
   "cell_type": "code",
   "execution_count": 23,
   "id": "6327c68d-9242-4894-b783-cfa40aaa31c6",
   "metadata": {
    "tags": []
   },
   "outputs": [],
   "source": [
    "from langchain.embeddings.openai import OpenAIEmbeddings\n",
    "from langchain.text_splitter import CharacterTextSplitter\n",
    "from langchain.vectorstores.pgvector import PGVector\n",
    "from langchain.document_loaders import TextLoader, UnstructuredFileLoader\n",
    "from langchain.docstore.document import Document"
   ]
  },
  {
   "cell_type": "code",
   "execution_count": 39,
   "id": "eb506357-8340-453e-86f0-f9c7086a6138",
   "metadata": {
    "tags": []
   },
   "outputs": [
    {
     "name": "stderr",
     "output_type": "stream",
     "text": [
      "Created a chunk of size 1436, which is longer than the specified 100\n",
      "Created a chunk of size 1480, which is longer than the specified 100\n",
      "Created a chunk of size 1461, which is longer than the specified 100\n",
      "Created a chunk of size 1407, which is longer than the specified 100\n",
      "Created a chunk of size 1421, which is longer than the specified 100\n",
      "Created a chunk of size 1184, which is longer than the specified 100\n",
      "Created a chunk of size 1143, which is longer than the specified 100\n",
      "Created a chunk of size 1469, which is longer than the specified 100\n",
      "Created a chunk of size 1084, which is longer than the specified 100\n"
     ]
    },
    {
     "name": "stdout",
     "output_type": "stream",
     "text": [
      "split_docs size: 10\n",
      "page_content='In 2021, the government of Israel\\xa0announced\\xa0its selection of AWS as its primary cloud provider as part of the Nimbus contract for government ministries and subsidiaries. The Nimbus framework provides cloud services to Israeli government ministries—including local municipalities, government-owned companies, and public sector organizations—with the aim of driving innovation and enabling new digital services for the citizens of Israel. “We are excited to welcome the new AWS Region to Israel as part of project Nimbus and we congratulate AWS for its commitment and hard work in building the Israeli Region,” said Yali Rothenberg, accountant general of Israel. “The establishment of the Israeli Region reflects the long-term commitment of AWS to Israel and to the continuation of their large investments in the Israeli market. The establishment of the Region will enable us to migrate substantial governmental workloads to the cloud, and we are confident that it will help us accelerate digital transformation in the public sector, leverage technology to drive innovation in the government, improve customer experience, and further the development of the technological ecosystem in Israel.”\\rWith the launch of the AWS Israel (Tel Aviv) Region, AWS has 102 Availability Zones across 32 geographic regions, with announced plans to launch 12 more Availability Zones and four more AWS Regions in Canada, Malaysia, New Zealand, and Thailand.' metadata={'source': 'Israel.txt'}\n"
     ]
    }
   ],
   "source": [
    "loader = UnstructuredFileLoader(\"Israel.txt\")\n",
    "documents = loader.load()\n",
    "text_splitter = CharacterTextSplitter(chunk_size=100, chunk_overlap=10)\n",
    "docs = text_splitter.split_documents(documents)\n",
    "\n",
    "print(\"split_docs size:\",len(docs))\n",
    "print(docs[0])\n",
    "\n",
    "embeddings = OpenAIEmbeddings()"
   ]
  },
  {
   "cell_type": "code",
   "execution_count": 28,
   "id": "e3e2a3e5-f6a5-4c02-bdae-e5d9781615f7",
   "metadata": {
    "tags": []
   },
   "outputs": [],
   "source": [
    "CONNECTION_STRING = PGVector.connection_string_from_db_params(\n",
    "    driver=os.environ.get(\"PGVECTOR_DRIVER\", \"psycopg2\"),\n",
    "    host=os.environ.get(\"PGVECTOR_HOST\", \"vector-store.co2wcr3kjcuz.us-east-1.rds.amazonaws.com\"),\n",
    "    port=int(os.environ.get(\"PGVECTOR_PORT\", \"5432\")),\n",
    "    database=os.environ.get(\"PGVECTOR_DATABASE\", \"postgres\"),\n",
    "    user=os.environ.get(\"PGVECTOR_USER\", \"sean\"),\n",
    "    password=os.environ.get(\"PGVECTOR_PASSWORD\", \"xxxxxxxx\"),\n",
    ")"
   ]
  },
  {
   "cell_type": "code",
   "execution_count": 29,
   "id": "827f4a3b-0adb-4d8f-bed8-4261e04625c8",
   "metadata": {
    "tags": []
   },
   "outputs": [],
   "source": [
    "COLLECTION_NAME = \"Israel\"\n",
    "\n",
    "db = PGVector.from_documents(\n",
    "    embedding=embeddings,\n",
    "    documents=docs,\n",
    "    collection_name=COLLECTION_NAME,\n",
    "    connection_string=CONNECTION_STRING,\n",
    ")"
   ]
  },
  {
   "cell_type": "code",
   "execution_count": 34,
   "id": "db2d993f-a460-4b88-a3c6-c39fe050fa50",
   "metadata": {
    "tags": []
   },
   "outputs": [
    {
     "name": "stdout",
     "output_type": "stream",
     "text": [
      "page_content='AWS Regions are composed of Availability Zones that place infrastructure in separate and distinct geographic locations. The AWS Israel (Tel Aviv) Region consists of three Availability Zones, each located far enough from the other to support customers’ business continuity, but near enough to provide low latency for high availability applications that use multiple Availability Zones. Each Availability Zone has independent power, cooling, and physical security and is connected through redundant, ultra-low latency networks. AWS customers focused on high availability can design their applications to run in multiple Availability Zones to achieve even greater fault tolerance. The launch of the AWS Israel (Tel Aviv) Region enables customers to securely store data in Israel while providing customers with even lower latency across the country to drive greater productivity, more efficient business operations, and enhanced real-time application performance. Customers also have access to advanced AWS technologies to accelerate innovation, including compute, storage, networking, business applications, developer tools, data analytics, security, machine learning, and artificial intelligence (AI). AWS released an economic impact study estimating the company’s projected spend on the construction and operation of the new AWS Region, which will support an average of more than 7,700 full-time equivalent jobs at external businesses annually, with a planned $7.2 billion (approx.' metadata={'source': 'Israel.txt'}\n"
     ]
    },
    {
     "data": {
      "text/plain": [
       "[None]"
      ]
     },
     "execution_count": 34,
     "metadata": {},
     "output_type": "execute_result"
    }
   ],
   "source": [
    "question = \"how many Availability Zones does AWS have?\"\n",
    "similarDocs = db.similarity_search(question, include_metadata=True,k=1)\n",
    "[print(x) for x in similarDocs]"
   ]
  },
  {
   "cell_type": "code",
   "execution_count": null,
   "id": "049ca590-09bf-4f48-8f71-0932bdcb5c03",
   "metadata": {},
   "outputs": [],
   "source": []
  }
 ],
 "metadata": {
  "kernelspec": {
   "display_name": "conda_python3",
   "language": "python",
   "name": "conda_python3"
  },
  "language_info": {
   "codemirror_mode": {
    "name": "ipython",
    "version": 3
   },
   "file_extension": ".py",
   "mimetype": "text/x-python",
   "name": "python",
   "nbconvert_exporter": "python",
   "pygments_lexer": "ipython3",
   "version": "3.10.10"
  }
 },
 "nbformat": 4,
 "nbformat_minor": 5
}
